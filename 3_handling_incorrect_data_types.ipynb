{
 "cells": [
  {
   "cell_type": "markdown",
   "id": "177776be",
   "metadata": {},
   "source": [
    "# Importing Libraries and Loading Dataset"
   ]
  },
  {
   "cell_type": "code",
   "execution_count": 1,
   "id": "4d5c899c",
   "metadata": {},
   "outputs": [],
   "source": [
    "# importing the required libraries\n",
    "\n",
    "import pandas as pd\n",
    "import re\n",
    "import numpy as np\n",
    "from word2number import w2n\n",
    "from datetime import datetime\n",
    "\n",
    "# Dataset Loading\n",
    "hr= pd.read_csv(r\"C:\\Users\\DELL\\Desktop\\Regonet_project\\messy_HR_data.csv\")\n",
    "\n",
    "# make a copy of the original dataset\n",
    "hr_1 = hr.copy()\n",
    "\n",
    "# Rename the columns to conform with Python variable naming conventions\n",
    "hr_1 = hr_1.rename(columns={'Joining Date': 'Joining_date', 'Performance Score': 'Performance_score','Phone Number': 'Phone_number'})\n"
   ]
  },
  {
   "cell_type": "markdown",
   "id": "a19aa01d",
   "metadata": {},
   "source": [
    "# Resolving Inconsistent Formatting in Age and Salary Columns"
   ]
  },
  {
   "cell_type": "code",
   "execution_count": 2,
   "id": "d3f62f5e",
   "metadata": {},
   "outputs": [],
   "source": [
    "# Converting text enteries in 'age' column to numeric values\n",
    "hr_1['Salary'] = hr_1['Salary'].apply(\n",
    "    lambda x: int(x) if str(x).isdigit() else (\n",
    "        w2n.word_to_num(x.lower()) if isinstance(x, str) and x.replace('-', '').isalpha() else np.nan\n",
    "        )\n",
    ")\n",
    "\n",
    "# Converting text enteries in 'age' column to numeric values\n",
    "hr_1['Age'] = hr_1['Age'].apply(\n",
    "    lambda x: int(x) if str(x).isdigit() else (\n",
    "        w2n.word_to_num(x.lower()) if isinstance(x, str) and x.replace('-', '').isalpha() else np.nan\n",
    "        )\n",
    ")\n",
    "\n",
    "# Removing extra leading and trailing spaces from text-based columns\n",
    "for col in hr_1.select_dtypes(include='object'):\n",
    "    hr_1[col] = hr_1[col].map(lambda x: re.sub(r'\\s+', ' ', x).strip() if isinstance(x,str) else x)\n"
   ]
  },
  {
   "cell_type": "markdown",
   "id": "ff7bb1ce",
   "metadata": {},
   "source": [
    "# Handling Incorrect Data Types"
   ]
  },
  {
   "cell_type": "code",
   "execution_count": 3,
   "id": "cb417e0b",
   "metadata": {},
   "outputs": [
    {
     "name": "stdout",
     "output_type": "stream",
     "text": [
      "       Name   Age   Salary  Gender Department   Position Joining_date  \\\n",
      "0     grace  25.0  50000.0    Male         HR    Manager   2018-04-05   \n",
      "1     david   NaN  65000.0  Female    Finance   Director   2020-02-20   \n",
      "2    hannah  35.0      NaN  Female      Sales   Director   2020-01-15   \n",
      "3       eve   NaN  50000.0  Female         IT    Manager   2018-04-05   \n",
      "4     grace   NaN      NaN  Female    Finance    Manager   2020-01-15   \n",
      "..      ...   ...      ...     ...        ...        ...          ...   \n",
      "995    jack  50.0  65000.0  Female         HR    Manager   2020-02-20   \n",
      "996    jack  30.0  50000.0    Male    Finance    Analyst   2018-04-05   \n",
      "997  hannah  30.0  70000.0    Male         IT  Assistant   2020-01-15   \n",
      "998     bob  25.0  65000.0   Other  Marketing    Manager   2018-04-05   \n",
      "999     ivy  30.0      NaN    Male    Finance    Manager   2020-02-20   \n",
      "\n",
      "    Performance_score              Email  Phone_number  \n",
      "0                   D  email@example.com           NaN  \n",
      "1                   F    user@domain.com  123-456-7890  \n",
      "2                   C  email@example.com  098-765-4321  \n",
      "3                   A   name@company.org                \n",
      "4                   F   name@company.org  098-765-4321  \n",
      "..                ...                ...           ...  \n",
      "995                 F                NaN  098-765-4321  \n",
      "996                 C                NaN  555-555-5555  \n",
      "997                 D    user@domain.com           NaN  \n",
      "998                 D  email@example.com           NaN  \n",
      "999                 C    user@domain.com  123-456-7890  \n",
      "\n",
      "[1000 rows x 10 columns]\n"
     ]
    }
   ],
   "source": [
    "# Converting date stored as strings with varyig formats to a proper date fromat\n",
    "\n",
    "# List of date formats\n",
    "date_formats = [\n",
    "    \"%Y.%m.%d\",\n",
    "    \"%m-%d-%Y\",\n",
    "    \"%B %d, %Y\",\n",
    "    \"%Y/%m/%d\",\n",
    "    \"%m/%d/%Y\"\n",
    "]\n",
    "\n",
    "# Helper function to test and parse\n",
    "def _can_parse(date_str, fmt):\n",
    "    try:\n",
    "        datetime.strptime(date_str, fmt)\n",
    "        return True\n",
    "    except:\n",
    "        return False\n",
    "\n",
    "# Convert and replace the Joining_date column\n",
    "hr_1['Joining_date'] = hr_1['Joining_date'].apply(\n",
    "    lambda x: next(\n",
    "        (datetime.strptime(x, fmt) for fmt in date_formats if _can_parse(x, fmt)),\n",
    "        None\n",
    "    )\n",
    ")\n",
    "\n",
    "print(hr_1)"
   ]
  },
  {
   "cell_type": "code",
   "execution_count": null,
   "id": "25482854",
   "metadata": {},
   "outputs": [],
   "source": []
  }
 ],
 "metadata": {
  "kernelspec": {
   "display_name": "cleaning_messy_HR_data",
   "language": "python",
   "name": "python3"
  },
  "language_info": {
   "codemirror_mode": {
    "name": "ipython",
    "version": 3
   },
   "file_extension": ".py",
   "mimetype": "text/x-python",
   "name": "python",
   "nbconvert_exporter": "python",
   "pygments_lexer": "ipython3",
   "version": "3.12.11"
  }
 },
 "nbformat": 4,
 "nbformat_minor": 5
}

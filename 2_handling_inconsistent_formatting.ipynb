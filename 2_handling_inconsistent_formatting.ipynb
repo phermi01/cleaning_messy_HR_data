{
 "cells": [
  {
   "cell_type": "markdown",
   "id": "23f2bc22",
   "metadata": {},
   "source": [
    "# Importing Libraries and Loading Dataset"
   ]
  },
  {
   "cell_type": "code",
   "execution_count": 1,
   "id": "01d41a53",
   "metadata": {},
   "outputs": [],
   "source": [
    "\n",
    "# importing the required libraries\n",
    "\n",
    "import pandas as pd\n",
    "import re\n",
    "import numpy as np\n",
    "from word2number import w2n\n",
    "from datetime import datetime\n",
    "\n",
    "# Dataset Loading\n",
    "hr= pd.read_csv(r\"C:\\Users\\DELL\\Desktop\\Regonet_project\\messy_HR_data.csv\")\n",
    "\n",
    "# make a copy of the original dataset\n",
    "hr_1 = hr.copy()\n",
    "\n",
    "# # Rename the columns to conform with Python variable naming conventions\n",
    "hr_1 = hr_1.rename(columns={'Joining Date': 'Joining_date', 'Performance Score': 'Performancescore','Phone Number': 'Phone_number'})"
   ]
  },
  {
   "cell_type": "markdown",
   "id": "1bed02c7",
   "metadata": {},
   "source": [
    "# Resolving Inconsistent Formatting in Age and Salary Columns"
   ]
  },
  {
   "cell_type": "code",
   "execution_count": 2,
   "id": "5aa07dba",
   "metadata": {},
   "outputs": [],
   "source": [
    "# Converting text enteries in 'age' column to numeric values\n",
    "hr_1['Salary'] = hr_1['Salary'].apply(\n",
    "    lambda x: int(x) if str(x).isdigit() else (\n",
    "        w2n.word_to_num(x.lower()) if isinstance(x, str) and x.replace('-', '').isalpha() else np.nan\n",
    "        )\n",
    ")"
   ]
  },
  {
   "cell_type": "code",
   "execution_count": 3,
   "id": "5c3e17b6",
   "metadata": {},
   "outputs": [],
   "source": [
    "# Converting text enteries in 'age' column to numeric values\n",
    "hr_1['Age'] = hr_1['Age'].apply(\n",
    "    lambda x: int(x) if str(x).isdigit() else (\n",
    "        w2n.word_to_num(x.lower()) if isinstance(x, str) and x.replace('-', '').isalpha() else np.nan\n",
    "        )\n",
    ")\n"
   ]
  },
  {
   "cell_type": "code",
   "execution_count": 4,
   "id": "54516bbc",
   "metadata": {},
   "outputs": [],
   "source": [
    "\n",
    "# Removing extra leading and trailing spaces from text-based columns\n",
    "for col in hr_1.select_dtypes(include='object'):\n",
    "    hr_1[col] = hr_1[col].map(lambda x: re.sub(r'\\s+', ' ', x).strip() if isinstance(x,str) else x)\n"
   ]
  },
  {
   "cell_type": "code",
   "execution_count": 5,
   "id": "b891afb5",
   "metadata": {},
   "outputs": [
    {
     "name": "stdout",
     "output_type": "stream",
     "text": [
      "       Name   Age   Salary  Gender Department   Position   Joining_date  \\\n",
      "0     grace  25.0  50000.0    Male         HR    Manager  April 5, 2018   \n",
      "1     david   NaN  65000.0  Female    Finance   Director     2020/02/20   \n",
      "2    hannah  35.0      NaN  Female      Sales   Director     01/15/2020   \n",
      "3       eve   NaN  50000.0  Female         IT    Manager  April 5, 2018   \n",
      "4     grace   NaN      NaN  Female    Finance    Manager     01/15/2020   \n",
      "..      ...   ...      ...     ...        ...        ...            ...   \n",
      "995    jack  50.0  65000.0  Female         HR    Manager     2020/02/20   \n",
      "996    jack  30.0  50000.0    Male    Finance    Analyst  April 5, 2018   \n",
      "997  hannah  30.0  70000.0    Male         IT  Assistant     01/15/2020   \n",
      "998     bob  25.0  65000.0   Other  Marketing    Manager  April 5, 2018   \n",
      "999     ivy  30.0      NaN    Male    Finance    Manager     2020/02/20   \n",
      "\n",
      "    Performancescore              Email  Phone_number  \n",
      "0                  D  email@example.com           NaN  \n",
      "1                  F    user@domain.com  123-456-7890  \n",
      "2                  C  email@example.com  098-765-4321  \n",
      "3                  A   name@company.org                \n",
      "4                  F   name@company.org  098-765-4321  \n",
      "..               ...                ...           ...  \n",
      "995                F                NaN  098-765-4321  \n",
      "996                C                NaN  555-555-5555  \n",
      "997                D    user@domain.com           NaN  \n",
      "998                D  email@example.com           NaN  \n",
      "999                C    user@domain.com  123-456-7890  \n",
      "\n",
      "[1000 rows x 10 columns]\n"
     ]
    }
   ],
   "source": [
    "print(hr_1)"
   ]
  }
 ],
 "metadata": {
  "kernelspec": {
   "display_name": "cleaning_messy_HR_data",
   "language": "python",
   "name": "python3"
  },
  "language_info": {
   "codemirror_mode": {
    "name": "ipython",
    "version": 3
   },
   "file_extension": ".py",
   "mimetype": "text/x-python",
   "name": "python",
   "nbconvert_exporter": "python",
   "pygments_lexer": "ipython3",
   "version": "3.12.11"
  }
 },
 "nbformat": 4,
 "nbformat_minor": 5
}
